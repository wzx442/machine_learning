{
 "cells": [
  {
   "cell_type": "markdown",
   "source": [
    "# 一个例子\n",
    "- 数据：工资和年龄\n",
    "- 目标：预测银行会贷款给我多少钱\n",
    "- 考虑： 工资和年龄都会影响最终银行贷款的结果"
   ],
   "metadata": {
    "collapsed": false
   }
  },
  {
   "cell_type": "markdown",
   "source": [
    "| 工资    | 年龄 | 额度    |\n",
    "|-------|----|-------|\n",
    "| 4000  | 25 | 20000 |\n",
    "| 8000  | 30 | 70000 |\n",
    "| 5000  | 28 | 35000 |\n",
    "| 7500  | 35 | 50000 |\n",
    "| 12000 | 40 | 85000 |\n"
   ],
   "metadata": {
    "collapsed": false
   }
  },
  {
   "cell_type": "markdown",
   "source": [
    "- 设工资为X1，年龄为X2，额度为Y\n",
    "- Y=X1*sita1+X2*sita2"
   ],
   "metadata": {
    "collapsed": false
   }
  },
  {
   "cell_type": "markdown",
   "source": [
    "# 线性回归\n",
    "- 找到最合适的一条线来**拟合**我们的数据点"
   ],
   "metadata": {
    "collapsed": false
   }
  },
  {
   "cell_type": "markdown",
   "source": [
    "![线性回归](../image/Linear_regression/线性回归.PNG)"
   ],
   "metadata": {
    "collapsed": false
   }
  },
  {
   "cell_type": "markdown",
   "source": [
    "# 误差\n",
    "- 真实值和预测值之间的差异，一般用伊普西隆来表示\n",
    "- 对于每个样本：y(i)=sitaT*x(i)+yipuxilong(i)"
   ],
   "metadata": {
    "collapsed": false
   }
  },
  {
   "cell_type": "markdown",
   "source": [
    "![误差](../image/Linear_regression/误差.PNG)"
   ],
   "metadata": {
    "collapsed": false
   }
  },
  {
   "cell_type": "code",
   "execution_count": null,
   "outputs": [],
   "source": [],
   "metadata": {
    "collapsed": false
   }
  }
 ],
 "metadata": {
  "kernelspec": {
   "display_name": "Python 3",
   "language": "python",
   "name": "python3"
  },
  "language_info": {
   "codemirror_mode": {
    "name": "ipython",
    "version": 2
   },
   "file_extension": ".py",
   "mimetype": "text/x-python",
   "name": "python",
   "nbconvert_exporter": "python",
   "pygments_lexer": "ipython2",
   "version": "2.7.6"
  }
 },
 "nbformat": 4,
 "nbformat_minor": 0
}
